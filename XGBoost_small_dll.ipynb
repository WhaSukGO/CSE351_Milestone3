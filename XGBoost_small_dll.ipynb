{
 "cells": [
  {
   "cell_type": "code",
   "execution_count": 1,
   "metadata": {},
   "outputs": [],
   "source": [
    "import xgboost as xgb\n",
    "import pandas as pd\n",
    "import numpy as np"
   ]
  },
  {
   "cell_type": "code",
   "execution_count": 13,
   "metadata": {},
   "outputs": [],
   "source": [
    "train_data = pd.read_csv('train_dll.csv') # train data\n",
    "test_data = pd.read_csv(\"test_dll.csv\") # test data\n",
    "train_label = pd.read_csv(\"../trainLabels.csv\") # train labels\n",
    "test_label = pd.read_csv(\"../testLabels.csv\") # test labels"
   ]
  },
  {
   "cell_type": "code",
   "execution_count": 14,
   "metadata": {},
   "outputs": [],
   "source": [
    "# From this cell to a few below cells, I'm going to manipulate the data into numpy that can be fitted to XGBoost.\n",
    "train_data_with_labels = pd.merge(train_data, train_label, on=\"Id\")\n",
    "test_data_with_labels = pd.merge(test_data, test_label, on=\"Id\")"
   ]
  },
  {
   "cell_type": "code",
   "execution_count": 15,
   "metadata": {},
   "outputs": [],
   "source": [
    "train_complete_numpy = train_data_with_labels.to_numpy().T\n",
    "test_complete_numpy = test_data_with_labels.to_numpy().T"
   ]
  },
  {
   "cell_type": "code",
   "execution_count": 16,
   "metadata": {},
   "outputs": [],
   "source": [
    "train_data = train_complete_numpy[1:-1].T\n",
    "train_label = train_complete_numpy[-1] - 1 # since XGBoost take labels as 0 ~ num_class -1, have to subtract 1\n",
    "test_data = test_complete_numpy[1:-1].T\n",
    "test_label = test_complete_numpy[-1] - 1"
   ]
  },
  {
   "cell_type": "code",
   "execution_count": 17,
   "metadata": {},
   "outputs": [],
   "source": [
    "train = xgb.DMatrix(train_data, label = train_label)\n",
    "test = xgb.DMatrix(test_data, label = test_label)"
   ]
  },
  {
   "cell_type": "code",
   "execution_count": 18,
   "metadata": {},
   "outputs": [],
   "source": [
    "param = {'max_depth': 4, 'eta':0.3, 'objective':'multi:softmax','num_class':9 }\n",
    "epochs = 10"
   ]
  },
  {
   "cell_type": "code",
   "execution_count": 19,
   "metadata": {},
   "outputs": [],
   "source": [
    "model = xgb.train(param, train, epochs) # model training"
   ]
  },
  {
   "cell_type": "code",
   "execution_count": 20,
   "metadata": {},
   "outputs": [],
   "source": [
    "prediction = model.predict(test)"
   ]
  },
  {
   "cell_type": "code",
   "execution_count": 21,
   "metadata": {},
   "outputs": [
    {
     "data": {
      "text/plain": [
       "<matplotlib.axes._subplots.AxesSubplot at 0x1a24eb29d0>"
      ]
     },
     "execution_count": 21,
     "metadata": {},
     "output_type": "execute_result"
    },
    {
     "data": {
      "image/png": "[encoded data removed]",
      "text/plain": [
       "<Figure size 432x288 with 2 Axes>"
      ]
     },
     "metadata": {
      "needs_background": "light"
     },
     "output_type": "display_data"
    }
   ],
   "source": [
    "from sklearn.metrics import confusion_matrix\n",
    "import seaborn as sn\n",
    "c = confusion_matrix(test_label.astype(np.int8), prediction)\n",
    "\n",
    "classes = [\"Ramnit\",\n",
    "\"Lollipop\",\n",
    "\"Kelihos_ver3\",\n",
    "\"Vundo\",\n",
    "\"Simda\",\n",
    "\"Tracur\",\n",
    "\"Kelihos_ver1\",\n",
    "\"Obfuscator.ACY\",\n",
    "\"Gatak\"]\n",
    "\n",
    "df_cm = pd.DataFrame(c, index = classes, columns = classes)\n",
    "sn.heatmap(df_cm, annot=True, cmap=\"YlGnBu\")"
   ]
  },
  {
   "cell_type": "code",
   "execution_count": 22,
   "metadata": {},
   "outputs": [
    {
     "data": {
      "text/plain": [
       "0.8253968253968254"
      ]
     },
     "execution_count": 22,
     "metadata": {},
     "output_type": "execute_result"
    }
   ],
   "source": [
    "from sklearn.metrics import accuracy_score\n",
    "accuracy_score(test_label.astype(np.int8), prediction)"
   ]
  },
  {
   "cell_type": "code",
   "execution_count": 23,
   "metadata": {},
   "outputs": [],
   "source": [
    "tp_fn = c.sum(1)\n",
    "tp_fp = c.sum(0)\n",
    "tp = c.diagonal()\n",
    "precision = (tp*1.0/tp_fp)\n",
    "recall = (tp*1.0/tp_fn)"
   ]
  },
  {
   "cell_type": "code",
   "execution_count": 24,
   "metadata": {},
   "outputs": [
    {
     "data": {
      "text/html": [
       "<div>\n",
       "<style scoped>\n",
       "    .dataframe tbody tr th:only-of-type {\n",
       "        vertical-align: middle;\n",
       "    }\n",
       "\n",
       "    .dataframe tbody tr th {\n",
       "        vertical-align: top;\n",
       "    }\n",
       "\n",
       "    .dataframe thead th {\n",
       "        text-align: right;\n",
       "    }\n",
       "</style>\n",
       "<table border=\"1\" class=\"dataframe\">\n",
       "  <thead>\n",
       "    <tr style=\"text-align: right;\">\n",
       "      <th></th>\n",
       "      <th>Ramnit</th>\n",
       "      <th>Lollipop</th>\n",
       "      <th>Kelihos_ver3</th>\n",
       "      <th>Vundo</th>\n",
       "      <th>Simda</th>\n",
       "      <th>Tracur</th>\n",
       "      <th>Kelihos_ver1</th>\n",
       "      <th>Obfuscator.ACY</th>\n",
       "      <th>Gatak</th>\n",
       "    </tr>\n",
       "  </thead>\n",
       "  <tbody>\n",
       "    <tr>\n",
       "      <th>Precision</th>\n",
       "      <td>1.000000</td>\n",
       "      <td>0.875</td>\n",
       "      <td>1.0</td>\n",
       "      <td>1.000000</td>\n",
       "      <td>0.714286</td>\n",
       "      <td>1.000000</td>\n",
       "      <td>0.636364</td>\n",
       "      <td>1.000000</td>\n",
       "      <td>0.600000</td>\n",
       "    </tr>\n",
       "    <tr>\n",
       "      <th>Recall</th>\n",
       "      <td>0.571429</td>\n",
       "      <td>1.000</td>\n",
       "      <td>1.0</td>\n",
       "      <td>0.714286</td>\n",
       "      <td>0.714286</td>\n",
       "      <td>0.714286</td>\n",
       "      <td>1.000000</td>\n",
       "      <td>0.857143</td>\n",
       "      <td>0.857143</td>\n",
       "    </tr>\n",
       "  </tbody>\n",
       "</table>\n",
       "</div>"
      ],
      "text/plain": [
       "             Ramnit  Lollipop  Kelihos_ver3     Vundo     Simda    Tracur  \\\n",
       "Precision  1.000000     0.875           1.0  1.000000  0.714286  1.000000   \n",
       "Recall     0.571429     1.000           1.0  0.714286  0.714286  0.714286   \n",
       "\n",
       "           Kelihos_ver1  Obfuscator.ACY     Gatak  \n",
       "Precision      0.636364        1.000000  0.600000  \n",
       "Recall         1.000000        0.857143  0.857143  "
      ]
     },
     "execution_count": 24,
     "metadata": {},
     "output_type": "execute_result"
    }
   ],
   "source": [
    "pd.DataFrame([precision, recall],\n",
    "                         columns = [\"Ramnit\", \"Lollipop\", \"Kelihos_ver3\", \"Vundo\", \"Simda\", \"Tracur\", \"Kelihos_ver1\", \"Obfuscator.ACY\", \"Gatak\"],\n",
    "                         index = ['Precision', 'Recall'] )"
   ]
  }
 ],
 "metadata": {
  "kernelspec": {
   "display_name": "Python 3",
   "language": "python",
   "name": "python3"
  },
  "language_info": {
   "codemirror_mode": {
    "name": "ipython",
    "version": 3
   },
   "file_extension": ".py",
   "mimetype": "text/x-python",
   "name": "python",
   "nbconvert_exporter": "python",
   "pygments_lexer": "ipython3",
   "version": "3.7.6"
  }
 },
 "nbformat": 4,
 "nbformat_minor": 4
}
