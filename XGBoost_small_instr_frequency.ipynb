{
 "cells": [
  {
   "cell_type": "code",
   "execution_count": 1,
   "metadata": {},
   "outputs": [],
   "source": [
    "import xgboost as xgb\n",
    "import pandas as pd\n",
    "import numpy as np"
   ]
  },
  {
   "cell_type": "code",
   "execution_count": 3,
   "metadata": {},
   "outputs": [],
   "source": [
    "train_data = pd.read_csv('train_instr_frequency.csv') # train data\n",
    "test_data = pd.read_csv(\"test_instr_frequency.csv\") # test data\n",
    "train_label = pd.read_csv(\"../trainLabels.csv\") # train labels\n",
    "test_label = pd.read_csv(\"../testLabels.csv\") # test labels"
   ]
  },
  {
   "cell_type": "code",
   "execution_count": 4,
   "metadata": {},
   "outputs": [],
   "source": [
    "# From this cell to a few below cells, I'm going to manipulate the data into numpy that can be fitted to XGBoost.\n",
    "train_data_with_labels = pd.merge(train_data, train_label, on=\"Id\")\n",
    "test_data_with_labels = pd.merge(test_data, test_label, on=\"Id\")"
   ]
  },
  {
   "cell_type": "code",
   "execution_count": 5,
   "metadata": {},
   "outputs": [],
   "source": [
    "train_complete_numpy = train_data_with_labels.to_numpy().T\n",
    "test_complete_numpy = test_data_with_labels.to_numpy().T"
   ]
  },
  {
   "cell_type": "code",
   "execution_count": 6,
   "metadata": {},
   "outputs": [],
   "source": [
    "train_data = train_complete_numpy[1:-1].T\n",
    "train_label = train_complete_numpy[-1] - 1 # since XGBoost take labels as 0 ~ num_class -1, have to subtract 1\n",
    "test_data = test_complete_numpy[1:-1].T\n",
    "test_label = test_complete_numpy[-1] - 1"
   ]
  },
  {
   "cell_type": "code",
   "execution_count": 7,
   "metadata": {},
   "outputs": [],
   "source": [
    "train = xgb.DMatrix(train_data, label = train_label)\n",
    "test = xgb.DMatrix(test_data, label = test_label)"
   ]
  },
  {
   "cell_type": "code",
   "execution_count": 8,
   "metadata": {},
   "outputs": [],
   "source": [
    "param = {'max_depth': 4, 'eta':0.3, 'objective':'multi:softmax','num_class':9 }\n",
    "epochs = 10"
   ]
  },
  {
   "cell_type": "code",
   "execution_count": 9,
   "metadata": {},
   "outputs": [],
   "source": [
    "model = xgb.train(param, train, epochs) # model training"
   ]
  },
  {
   "cell_type": "code",
   "execution_count": 10,
   "metadata": {},
   "outputs": [],
   "source": [
    "prediction = model.predict(test)"
   ]
  },
  {
   "cell_type": "code",
   "execution_count": 11,
   "metadata": {},
   "outputs": [
    {
     "data": {
      "text/plain": [
       "<matplotlib.axes._subplots.AxesSubplot at 0x1a237fe3d0>"
      ]
     },
     "execution_count": 11,
     "metadata": {},
     "output_type": "execute_result"
    },
    {
     "data": {
      "image/png": "[encoded data removed]",
      "text/plain": [
       "<Figure size 432x288 with 2 Axes>"
      ]
     },
     "metadata": {
      "needs_background": "light"
     },
     "output_type": "display_data"
    }
   ],
   "source": [
    "from sklearn.metrics import confusion_matrix\n",
    "import seaborn as sn\n",
    "c = confusion_matrix(test_label.astype(np.int8), prediction)\n",
    "\n",
    "classes = [\"Ramnit\",\n",
    "\"Lollipop\",\n",
    "\"Kelihos_ver3\",\n",
    "\"Vundo\",\n",
    "\"Simda\",\n",
    "\"Tracur\",\n",
    "\"Kelihos_ver1\",\n",
    "\"Obfuscator.ACY\",\n",
    "\"Gatak\"]\n",
    "\n",
    "df_cm = pd.DataFrame(c, index = classes, columns = classes)\n",
    "sn.heatmap(df_cm, annot=True, cmap=\"YlGnBu\")"
   ]
  },
  {
   "cell_type": "code",
   "execution_count": 12,
   "metadata": {},
   "outputs": [
    {
     "data": {
      "text/plain": [
       "0.9047619047619048"
      ]
     },
     "execution_count": 12,
     "metadata": {},
     "output_type": "execute_result"
    }
   ],
   "source": [
    "from sklearn.metrics import accuracy_score\n",
    "accuracy_score(test_label.astype(np.int8), prediction)"
   ]
  },
  {
   "cell_type": "code",
   "execution_count": 13,
   "metadata": {},
   "outputs": [],
   "source": [
    "tp_fn = c.sum(1)\n",
    "tp_fp = c.sum(0)\n",
    "tp = c.diagonal()\n",
    "precision = (tp*1.0/tp_fp)\n",
    "recall = (tp*1.0/tp_fn)"
   ]
  },
  {
   "cell_type": "code",
   "execution_count": 14,
   "metadata": {},
   "outputs": [
    {
     "data": {
      "text/html": [
       "<div>\n",
       "<style scoped>\n",
       "    .dataframe tbody tr th:only-of-type {\n",
       "        vertical-align: middle;\n",
       "    }\n",
       "\n",
       "    .dataframe tbody tr th {\n",
       "        vertical-align: top;\n",
       "    }\n",
       "\n",
       "    .dataframe thead th {\n",
       "        text-align: right;\n",
       "    }\n",
       "</style>\n",
       "<table border=\"1\" class=\"dataframe\">\n",
       "  <thead>\n",
       "    <tr style=\"text-align: right;\">\n",
       "      <th></th>\n",
       "      <th>Ramnit</th>\n",
       "      <th>Lollipop</th>\n",
       "      <th>Kelihos_ver3</th>\n",
       "      <th>Vundo</th>\n",
       "      <th>Simda</th>\n",
       "      <th>Tracur</th>\n",
       "      <th>Kelihos_ver1</th>\n",
       "      <th>Obfuscator.ACY</th>\n",
       "      <th>Gatak</th>\n",
       "    </tr>\n",
       "  </thead>\n",
       "  <tbody>\n",
       "    <tr>\n",
       "      <th>Precision</th>\n",
       "      <td>0.875</td>\n",
       "      <td>0.857143</td>\n",
       "      <td>1.000000</td>\n",
       "      <td>0.857143</td>\n",
       "      <td>1.000000</td>\n",
       "      <td>0.7</td>\n",
       "      <td>1.000000</td>\n",
       "      <td>1.000000</td>\n",
       "      <td>1.0</td>\n",
       "    </tr>\n",
       "    <tr>\n",
       "      <th>Recall</th>\n",
       "      <td>1.000</td>\n",
       "      <td>0.857143</td>\n",
       "      <td>0.857143</td>\n",
       "      <td>0.857143</td>\n",
       "      <td>0.857143</td>\n",
       "      <td>1.0</td>\n",
       "      <td>0.857143</td>\n",
       "      <td>0.857143</td>\n",
       "      <td>1.0</td>\n",
       "    </tr>\n",
       "  </tbody>\n",
       "</table>\n",
       "</div>"
      ],
      "text/plain": [
       "           Ramnit  Lollipop  Kelihos_ver3     Vundo     Simda  Tracur  \\\n",
       "Precision   0.875  0.857143      1.000000  0.857143  1.000000     0.7   \n",
       "Recall      1.000  0.857143      0.857143  0.857143  0.857143     1.0   \n",
       "\n",
       "           Kelihos_ver1  Obfuscator.ACY  Gatak  \n",
       "Precision      1.000000        1.000000    1.0  \n",
       "Recall         0.857143        0.857143    1.0  "
      ]
     },
     "execution_count": 14,
     "metadata": {},
     "output_type": "execute_result"
    }
   ],
   "source": [
    "pd.DataFrame([precision, recall],\n",
    "                         columns = [\"Ramnit\", \"Lollipop\", \"Kelihos_ver3\", \"Vundo\", \"Simda\", \"Tracur\", \"Kelihos_ver1\", \"Obfuscator.ACY\", \"Gatak\"],\n",
    "                         index = ['Precision', 'Recall'] )"
   ]
  }
 ],
 "metadata": {
  "kernelspec": {
   "display_name": "Python 3",
   "language": "python",
   "name": "python3"
  },
  "language_info": {
   "codemirror_mode": {
    "name": "ipython",
    "version": 3
   },
   "file_extension": ".py",
   "mimetype": "text/x-python",
   "name": "python",
   "nbconvert_exporter": "python",
   "pygments_lexer": "ipython3",
   "version": "3.7.6"
  }
 },
 "nbformat": 4,
 "nbformat_minor": 4
}
